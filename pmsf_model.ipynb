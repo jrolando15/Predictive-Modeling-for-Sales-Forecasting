{
 "cells": [
  {
   "cell_type": "code",
   "execution_count": 1,
   "metadata": {},
   "outputs": [
    {
     "name": "stderr",
     "output_type": "stream",
     "text": [
      "c:\\Users\\Lenovo\\Documents\\Projects\\PMSF\\PMSF\\Lib\\site-packages\\tqdm\\auto.py:21: TqdmWarning: IProgress not found. Please update jupyter and ipywidgets. See https://ipywidgets.readthedocs.io/en/stable/user_install.html\n",
      "  from .autonotebook import tqdm as notebook_tqdm\n",
      "Importing plotly failed. Interactive plots will not work.\n"
     ]
    }
   ],
   "source": [
    "import pandas as pd\n",
    "import numpy as np\n",
    "\n",
    "import matplotlib.pyplot as plt\n",
    "import seaborn as sns\n",
    "\n",
    "from sklearn.model_selection import train_test_split\n",
    "from sklearn.preprocessing import StandardScaler, OneHotEncoder\n",
    "from sklearn.impute import SimpleImputer\n",
    "from sklearn.linear_model import LinearRegression\n",
    "from sklearn.ensemble import RandomForestRegressor\n",
    "from sklearn.metrics import mean_squared_error\n",
    "from sklearn.compose import ColumnTransformer\n",
    "from sklearn.pipeline import Pipeline\n",
    "\n",
    "import statsmodels.api as sm\n",
    "from prophet import Prophet\n",
    "\n",
    "import xgboost as xgb\n",
    "from darts import TimeSeries\n",
    "from darts.models import ExponentialSmoothing, ARIMA, RNNModel\n",
    "\n",
    "sns.set(style = \"whitegrid\")\n",
    "plt.style.use(\"fivethirtyeight\")"
   ]
  },
  {
   "cell_type": "code",
   "execution_count": 2,
   "metadata": {},
   "outputs": [
    {
     "name": "stdout",
     "output_type": "stream",
     "text": [
      "Train DataFrame Head:\n",
      "   Store  DayOfWeek        Date  Sales  Customers  Open  Promo StateHoliday  \\\n",
      "0      1          5  2015-07-31   5263        555     1      1            0   \n",
      "1      2          5  2015-07-31   6064        625     1      1            0   \n",
      "2      3          5  2015-07-31   8314        821     1      1            0   \n",
      "3      4          5  2015-07-31  13995       1498     1      1            0   \n",
      "4      5          5  2015-07-31   4822        559     1      1            0   \n",
      "\n",
      "   SchoolHoliday  \n",
      "0              1  \n",
      "1              1  \n",
      "2              1  \n",
      "3              1  \n",
      "4              1  \n",
      "\n",
      "Test DataFrame Head:\n",
      "   Id  Store  DayOfWeek        Date  Open  Promo StateHoliday  SchoolHoliday\n",
      "0   1      1          4  2015-09-17   1.0      1            0              0\n",
      "1   2      3          4  2015-09-17   1.0      1            0              0\n",
      "2   3      7          4  2015-09-17   1.0      1            0              0\n",
      "3   4      8          4  2015-09-17   1.0      1            0              0\n",
      "4   5      9          4  2015-09-17   1.0      1            0              0\n",
      "\n",
      "Store DataFrame Head:\n",
      "   Store StoreType Assortment  CompetitionDistance  CompetitionOpenSinceMonth  \\\n",
      "0      1         c          a               1270.0                        9.0   \n",
      "1      2         a          a                570.0                       11.0   \n",
      "2      3         a          a              14130.0                       12.0   \n",
      "3      4         c          c                620.0                        9.0   \n",
      "4      5         a          a              29910.0                        4.0   \n",
      "\n",
      "   CompetitionOpenSinceYear  Promo2  Promo2SinceWeek  Promo2SinceYear  \\\n",
      "0                    2008.0       0              NaN              NaN   \n",
      "1                    2007.0       1             13.0           2010.0   \n",
      "2                    2006.0       1             14.0           2011.0   \n",
      "3                    2009.0       0              NaN              NaN   \n",
      "4                    2015.0       0              NaN              NaN   \n",
      "\n",
      "     PromoInterval  \n",
      "0              NaN  \n",
      "1  Jan,Apr,Jul,Oct  \n",
      "2  Jan,Apr,Jul,Oct  \n",
      "3              NaN  \n",
      "4              NaN  \n"
     ]
    },
    {
     "name": "stderr",
     "output_type": "stream",
     "text": [
      "C:\\Users\\Lenovo\\AppData\\Local\\Temp\\ipykernel_4572\\821647093.py:7: DtypeWarning: Columns (7) have mixed types. Specify dtype option on import or set low_memory=False.\n",
      "  train_df = pd.read_csv(train_file_path)\n"
     ]
    }
   ],
   "source": [
    "import pandas as pd\n",
    "train_file_path = r'C:\\Users\\Lenovo\\Documents\\Projects\\PMSF\\dataset\\rossmann-store-sales\\train.csv'\n",
    "test_file_path = r'C:\\Users\\Lenovo\\Documents\\Projects\\PMSF\\dataset\\rossmann-store-sales\\test.csv'\n",
    "store_file_path = r'C:\\Users\\Lenovo\\Documents\\Projects\\PMSF\\dataset\\rossmann-store-sales\\store.csv'\n",
    "\n",
    "# Load the datasets\n",
    "train_df = pd.read_csv(train_file_path)\n",
    "test_df = pd.read_csv(test_file_path)\n",
    "store_df = pd.read_csv(store_file_path)\n",
    "\n",
    "# Ensure the data is loaded correctly\n",
    "print(\"Train DataFrame Head:\")\n",
    "print(train_df.head())\n",
    "print(\"\\nTest DataFrame Head:\")\n",
    "print(test_df.head())\n",
    "print(\"\\nStore DataFrame Head:\")\n",
    "print(store_df.head())\n"
   ]
  },
  {
   "cell_type": "code",
   "execution_count": 3,
   "metadata": {},
   "outputs": [],
   "source": [
    "# Merge train and store data\n",
    "train_df = train_df.merge(store_df, on='Store', how='left')\n",
    "test_df = test_df.merge(store_df, on='Store', how='left')"
   ]
  },
  {
   "cell_type": "code",
   "execution_count": 4,
   "metadata": {},
   "outputs": [
    {
     "name": "stdout",
     "output_type": "stream",
     "text": [
      "\n",
      "Merged Train DataFrame Head:\n",
      "   Store  DayOfWeek        Date  Sales  Customers  Open  Promo StateHoliday  \\\n",
      "0      1          5  2015-07-31   5263        555     1      1            0   \n",
      "1      2          5  2015-07-31   6064        625     1      1            0   \n",
      "2      3          5  2015-07-31   8314        821     1      1            0   \n",
      "3      4          5  2015-07-31  13995       1498     1      1            0   \n",
      "4      5          5  2015-07-31   4822        559     1      1            0   \n",
      "\n",
      "   SchoolHoliday StoreType Assortment  CompetitionDistance  \\\n",
      "0              1         c          a               1270.0   \n",
      "1              1         a          a                570.0   \n",
      "2              1         a          a              14130.0   \n",
      "3              1         c          c                620.0   \n",
      "4              1         a          a              29910.0   \n",
      "\n",
      "   CompetitionOpenSinceMonth  CompetitionOpenSinceYear  Promo2  \\\n",
      "0                        9.0                    2008.0       0   \n",
      "1                       11.0                    2007.0       1   \n",
      "2                       12.0                    2006.0       1   \n",
      "3                        9.0                    2009.0       0   \n",
      "4                        4.0                    2015.0       0   \n",
      "\n",
      "   Promo2SinceWeek  Promo2SinceYear    PromoInterval  \n",
      "0              NaN              NaN              NaN  \n",
      "1             13.0           2010.0  Jan,Apr,Jul,Oct  \n",
      "2             14.0           2011.0  Jan,Apr,Jul,Oct  \n",
      "3              NaN              NaN              NaN  \n",
      "4              NaN              NaN              NaN  \n",
      "\n",
      "Merged Test DataFrame Head:\n",
      "   Id  Store  DayOfWeek        Date  Open  Promo StateHoliday  SchoolHoliday  \\\n",
      "0   1      1          4  2015-09-17   1.0      1            0              0   \n",
      "1   2      3          4  2015-09-17   1.0      1            0              0   \n",
      "2   3      7          4  2015-09-17   1.0      1            0              0   \n",
      "3   4      8          4  2015-09-17   1.0      1            0              0   \n",
      "4   5      9          4  2015-09-17   1.0      1            0              0   \n",
      "\n",
      "  StoreType Assortment  CompetitionDistance  CompetitionOpenSinceMonth  \\\n",
      "0         c          a               1270.0                        9.0   \n",
      "1         a          a              14130.0                       12.0   \n",
      "2         a          c              24000.0                        4.0   \n",
      "3         a          a               7520.0                       10.0   \n",
      "4         a          c               2030.0                        8.0   \n",
      "\n",
      "   CompetitionOpenSinceYear  Promo2  Promo2SinceWeek  Promo2SinceYear  \\\n",
      "0                    2008.0       0              NaN              NaN   \n",
      "1                    2006.0       1             14.0           2011.0   \n",
      "2                    2013.0       0              NaN              NaN   \n",
      "3                    2014.0       0              NaN              NaN   \n",
      "4                    2000.0       0              NaN              NaN   \n",
      "\n",
      "     PromoInterval  \n",
      "0              NaN  \n",
      "1  Jan,Apr,Jul,Oct  \n",
      "2              NaN  \n",
      "3              NaN  \n",
      "4              NaN  \n"
     ]
    }
   ],
   "source": [
    "print(\"\\nMerged Train DataFrame Head:\")\n",
    "print(train_df.head())\n",
    "print(\"\\nMerged Test DataFrame Head:\")\n",
    "print(test_df.head())"
   ]
  },
  {
   "cell_type": "code",
   "execution_count": 5,
   "metadata": {},
   "outputs": [
    {
     "name": "stdout",
     "output_type": "stream",
     "text": [
      "Store                             0\n",
      "DayOfWeek                         0\n",
      "Date                              0\n",
      "Sales                             0\n",
      "Customers                         0\n",
      "Open                              0\n",
      "Promo                             0\n",
      "StateHoliday                      0\n",
      "SchoolHoliday                     0\n",
      "StoreType                         0\n",
      "Assortment                        0\n",
      "CompetitionDistance            2642\n",
      "CompetitionOpenSinceMonth    323348\n",
      "CompetitionOpenSinceYear     323348\n",
      "Promo2                            0\n",
      "Promo2SinceWeek              508031\n",
      "Promo2SinceYear              508031\n",
      "PromoInterval                508031\n",
      "dtype: int64\n",
      "Id                               0\n",
      "Store                            0\n",
      "DayOfWeek                        0\n",
      "Date                             0\n",
      "Open                            11\n",
      "Promo                            0\n",
      "StateHoliday                     0\n",
      "SchoolHoliday                    0\n",
      "StoreType                        0\n",
      "Assortment                       0\n",
      "CompetitionDistance             96\n",
      "CompetitionOpenSinceMonth    15216\n",
      "CompetitionOpenSinceYear     15216\n",
      "Promo2                           0\n",
      "Promo2SinceWeek              17232\n",
      "Promo2SinceYear              17232\n",
      "PromoInterval                17232\n",
      "dtype: int64\n"
     ]
    },
    {
     "name": "stderr",
     "output_type": "stream",
     "text": [
      "C:\\Users\\Lenovo\\AppData\\Local\\Temp\\ipykernel_4572\\2212314993.py:6: FutureWarning: A value is trying to be set on a copy of a DataFrame or Series through chained assignment using an inplace method.\n",
      "The behavior will change in pandas 3.0. This inplace method will never work because the intermediate object on which we are setting values always behaves as a copy.\n",
      "\n",
      "For example, when doing 'df[col].method(value, inplace=True)', try using 'df.method({col: value}, inplace=True)' or df[col] = df[col].method(value) instead, to perform the operation inplace on the original object.\n",
      "\n",
      "\n",
      "  train_df['CompetitionDistance'].fillna(train_df['CompetitionDistance'].max(), inplace=True)\n",
      "C:\\Users\\Lenovo\\AppData\\Local\\Temp\\ipykernel_4572\\2212314993.py:7: FutureWarning: A value is trying to be set on a copy of a DataFrame or Series through chained assignment using an inplace method.\n",
      "The behavior will change in pandas 3.0. This inplace method will never work because the intermediate object on which we are setting values always behaves as a copy.\n",
      "\n",
      "For example, when doing 'df[col].method(value, inplace=True)', try using 'df.method({col: value}, inplace=True)' or df[col] = df[col].method(value) instead, to perform the operation inplace on the original object.\n",
      "\n",
      "\n",
      "  test_df['CompetitionDistance'].fillna(test_df['CompetitionDistance'].max(), inplace=True)\n",
      "C:\\Users\\Lenovo\\AppData\\Local\\Temp\\ipykernel_4572\\2212314993.py:10: FutureWarning: A value is trying to be set on a copy of a DataFrame or Series through chained assignment using an inplace method.\n",
      "The behavior will change in pandas 3.0. This inplace method will never work because the intermediate object on which we are setting values always behaves as a copy.\n",
      "\n",
      "For example, when doing 'df[col].method(value, inplace=True)', try using 'df.method({col: value}, inplace=True)' or df[col] = df[col].method(value) instead, to perform the operation inplace on the original object.\n",
      "\n",
      "\n",
      "  train_df['Promo2SinceYear'].fillna(0, inplace=True)\n",
      "C:\\Users\\Lenovo\\AppData\\Local\\Temp\\ipykernel_4572\\2212314993.py:11: FutureWarning: A value is trying to be set on a copy of a DataFrame or Series through chained assignment using an inplace method.\n",
      "The behavior will change in pandas 3.0. This inplace method will never work because the intermediate object on which we are setting values always behaves as a copy.\n",
      "\n",
      "For example, when doing 'df[col].method(value, inplace=True)', try using 'df.method({col: value}, inplace=True)' or df[col] = df[col].method(value) instead, to perform the operation inplace on the original object.\n",
      "\n",
      "\n",
      "  train_df['Promo2SinceWeek'].fillna(0, inplace=True)\n",
      "C:\\Users\\Lenovo\\AppData\\Local\\Temp\\ipykernel_4572\\2212314993.py:12: FutureWarning: A value is trying to be set on a copy of a DataFrame or Series through chained assignment using an inplace method.\n",
      "The behavior will change in pandas 3.0. This inplace method will never work because the intermediate object on which we are setting values always behaves as a copy.\n",
      "\n",
      "For example, when doing 'df[col].method(value, inplace=True)', try using 'df.method({col: value}, inplace=True)' or df[col] = df[col].method(value) instead, to perform the operation inplace on the original object.\n",
      "\n",
      "\n",
      "  test_df['Promo2SinceYear'].fillna(0, inplace=True)\n",
      "C:\\Users\\Lenovo\\AppData\\Local\\Temp\\ipykernel_4572\\2212314993.py:13: FutureWarning: A value is trying to be set on a copy of a DataFrame or Series through chained assignment using an inplace method.\n",
      "The behavior will change in pandas 3.0. This inplace method will never work because the intermediate object on which we are setting values always behaves as a copy.\n",
      "\n",
      "For example, when doing 'df[col].method(value, inplace=True)', try using 'df.method({col: value}, inplace=True)' or df[col] = df[col].method(value) instead, to perform the operation inplace on the original object.\n",
      "\n",
      "\n",
      "  test_df['Promo2SinceWeek'].fillna(0, inplace=True)\n",
      "C:\\Users\\Lenovo\\AppData\\Local\\Temp\\ipykernel_4572\\2212314993.py:16: FutureWarning: A value is trying to be set on a copy of a DataFrame or Series through chained assignment using an inplace method.\n",
      "The behavior will change in pandas 3.0. This inplace method will never work because the intermediate object on which we are setting values always behaves as a copy.\n",
      "\n",
      "For example, when doing 'df[col].method(value, inplace=True)', try using 'df.method({col: value}, inplace=True)' or df[col] = df[col].method(value) instead, to perform the operation inplace on the original object.\n",
      "\n",
      "\n",
      "  train_df['PromoInterval'].fillna('None', inplace=True)\n",
      "C:\\Users\\Lenovo\\AppData\\Local\\Temp\\ipykernel_4572\\2212314993.py:17: FutureWarning: A value is trying to be set on a copy of a DataFrame or Series through chained assignment using an inplace method.\n",
      "The behavior will change in pandas 3.0. This inplace method will never work because the intermediate object on which we are setting values always behaves as a copy.\n",
      "\n",
      "For example, when doing 'df[col].method(value, inplace=True)', try using 'df.method({col: value}, inplace=True)' or df[col] = df[col].method(value) instead, to perform the operation inplace on the original object.\n",
      "\n",
      "\n",
      "  test_df['PromoInterval'].fillna('None', inplace=True)\n"
     ]
    }
   ],
   "source": [
    "#handling missing values\n",
    "print(train_df.isnull().sum())\n",
    "print(test_df.isnull().sum())\n",
    "\n",
    "#Filling missing values in competitionDistance with a large number \n",
    "train_df['CompetitionDistance'].fillna(train_df['CompetitionDistance'].max(), inplace=True)\n",
    "test_df['CompetitionDistance'].fillna(test_df['CompetitionDistance'].max(), inplace=True)\n",
    "\n",
    "#Fill missing values in Promo2SinceYear and Promo2SinceWeek with 0\n",
    "train_df['Promo2SinceYear'].fillna(0, inplace=True)\n",
    "train_df['Promo2SinceWeek'].fillna(0, inplace=True)\n",
    "test_df['Promo2SinceYear'].fillna(0, inplace=True)\n",
    "test_df['Promo2SinceWeek'].fillna(0, inplace=True)\n",
    "\n",
    "#Fill missing values in PromoInterval with 'None'\n",
    "train_df['PromoInterval'].fillna('None', inplace=True)\n",
    "test_df['PromoInterval'].fillna('None', inplace=True)"
   ]
  },
  {
   "cell_type": "code",
   "execution_count": 6,
   "metadata": {},
   "outputs": [],
   "source": [
    "#Feature Engineering\n",
    "train_df['Date'] = pd.to_datetime(train_df['Date'])\n",
    "test_df[\"Date\"] = pd.to_datetime(test_df['Date'])\n",
    "\n",
    "#Extract year, month, day and week of year from Date\n",
    "train_df['Year'] = train_df['Date'].dt.year\n",
    "train_df['Month'] = train_df['Date'].dt.month\n",
    "train_df['Day'] = train_df[\"Date\"].dt.day\n",
    "train_df['WeekOfYear']= train_df['Date'].dt.isocalendar().week\n",
    "\n",
    "test_df['Year'] = test_df['Date'].dt.year\n",
    "test_df['Month'] = test_df['Date'].dt.month\n",
    "test_df['Day'] = test_df['Date'].dt.day\n",
    "test_df['WeekOfYear'] = test_df['Date'].dt.isocalendar().week\n",
    "\n",
    "#create a feature for the duration of the competition\n",
    "train_df['CompetitionOpenSince']= 12* (train_df['Year'] - train_df['CompetitionOpenSinceYear']) + (train_df['Month'] - train_df['CompetitionOpenSinceMonth'])\n",
    "test_df['CompetitionOpenSince'] = 12 * (test_df['Year'] - test_df['CompetitionOpenSinceYear']) + (test_df['Month'] - test_df['CompetitionOpenSinceMonth'])\n",
    "\n",
    "#Create ferature for the duration of the Promotion\n",
    "train_df['Promo2Since'] = 12 * (train_df['Year'] - train_df['Promo2SinceYear']) + (train_df['WeekOfYear'] - train_df['Promo2SinceWeek'])\n",
    "test_df['Promo2Since'] = 12 * (test_df['Year'] - test_df['Promo2SinceYear']) + (test_df['WeekOfYear'] - test_df['Promo2SinceWeek'])\n",
    "\n",
    "#Replace negative values with 0\n",
    "train_df[\"CompetitionOpenSince\"] = train_df['CompetitionOpenSince'].apply(lambda x: x if x > 0 else 0)\n",
    "test_df['CompetitionOpenSince'] = test_df['CompetitionOpenSince'].apply(lambda x: x if x > 0 else 0)"
   ]
  },
  {
   "cell_type": "code",
   "execution_count": 7,
   "metadata": {},
   "outputs": [],
   "source": [
    "# One hot encode categorical values\n",
    "train_df = pd.get_dummies(train_df, columns=['StoreType', 'Assortment', 'StateHoliday', 'PromoInterval'], prefix=['StoreType', 'Assortment', 'StateHoliday', 'PromoInterval'])\n",
    "test_df = pd.get_dummies(test_df, columns=['StoreType', 'Assortment', 'StateHoliday', 'PromoInterval'], prefix=['StoreType', 'Assortment', 'StateHoliday', 'PromoInterval'])\n",
    "\n",
    "\n",
    "#Remove duplicate columns if any\n",
    "train_df = train_df.loc[:, ~train_df.columns.duplicated()]\n",
    "test_df = test_df.loc[:, ~test_df.columns.duplicated()]\n",
    "\n",
    "# Ensuring both train and test have the same columns after one-hot encoding\n",
    "train_columns = set(train_df.columns)\n",
    "test_columns = set(test_df.columns)\n",
    "for col in train_columns - test_columns:\n",
    "    test_df[col] = 0\n",
    "for col in test_columns - train_columns:\n",
    "    train_df[col] = 0\n",
    "test_df = test_df[train_df.columns]\n"
   ]
  },
  {
   "cell_type": "code",
   "execution_count": 8,
   "metadata": {},
   "outputs": [
    {
     "name": "stdout",
     "output_type": "stream",
     "text": [
      "\n",
      "Train DataFrame Columns After Dropping:\n",
      "Index(['Store', 'DayOfWeek', 'Sales', 'Open', 'Promo', 'SchoolHoliday',\n",
      "       'CompetitionDistance', 'Promo2', 'Year', 'Month', 'Day', 'WeekOfYear',\n",
      "       'CompetitionOpenSince', 'Promo2Since', 'StoreType_a', 'StoreType_b',\n",
      "       'StoreType_c', 'StoreType_d', 'Assortment_a', 'Assortment_b',\n",
      "       'Assortment_c', 'StateHoliday_0', 'StateHoliday_a', 'StateHoliday_b',\n",
      "       'StateHoliday_c', 'PromoInterval_Feb,May,Aug,Nov',\n",
      "       'PromoInterval_Jan,Apr,Jul,Oct', 'PromoInterval_Mar,Jun,Sept,Dec',\n",
      "       'PromoInterval_None', 'Id'],\n",
      "      dtype='object')\n",
      "\n",
      "Test DataFrame Columns After Dropping:\n",
      "Index(['Store', 'DayOfWeek', 'Sales', 'Open', 'Promo', 'SchoolHoliday',\n",
      "       'CompetitionDistance', 'Promo2', 'Year', 'Month', 'Day', 'WeekOfYear',\n",
      "       'CompetitionOpenSince', 'Promo2Since', 'StoreType_a', 'StoreType_b',\n",
      "       'StoreType_c', 'StoreType_d', 'Assortment_a', 'Assortment_b',\n",
      "       'Assortment_c', 'StateHoliday_0', 'StateHoliday_a', 'StateHoliday_b',\n",
      "       'StateHoliday_c', 'PromoInterval_Feb,May,Aug,Nov',\n",
      "       'PromoInterval_Jan,Apr,Jul,Oct', 'PromoInterval_Mar,Jun,Sept,Dec',\n",
      "       'PromoInterval_None', 'Id'],\n",
      "      dtype='object')\n"
     ]
    }
   ],
   "source": [
    "# Drop unnecessary columns\n",
    "columns_to_drop = ['Date', 'Customers', 'CompetitionOpenSinceYear', 'CompetitionOpenSinceMonth', 'Promo2SinceYear', 'Promo2SinceWeek']\n",
    "train_df.drop(columns=columns_to_drop, inplace=True, errors='ignore')\n",
    "test_df.drop(columns=columns_to_drop, inplace=True, errors='ignore')\n",
    "\n",
    "# Verify the columns have been dropped\n",
    "print(\"\\nTrain DataFrame Columns After Dropping:\")\n",
    "print(train_df.columns)\n",
    "print(\"\\nTest DataFrame Columns After Dropping:\")\n",
    "print(test_df.columns)\n"
   ]
  },
  {
   "cell_type": "code",
   "execution_count": 9,
   "metadata": {},
   "outputs": [],
   "source": [
    "# Define features and target\n",
    "X_train = train_df.drop(columns=['Sales'])\n",
    "y_train = train_df['Sales']\n",
    "\n",
    "# For test data, ensure the same columns are present\n",
    "X_test = test_df[X_train.columns]\n"
   ]
  },
  {
   "cell_type": "code",
   "execution_count": 10,
   "metadata": {},
   "outputs": [
    {
     "name": "stderr",
     "output_type": "stream",
     "text": [
      "C:\\Users\\Lenovo\\AppData\\Local\\Temp\\ipykernel_4572\\2450137976.py:3: SettingWithCopyWarning: \n",
      "A value is trying to be set on a copy of a slice from a DataFrame.\n",
      "Try using .loc[row_indexer,col_indexer] = value instead\n",
      "\n",
      "See the caveats in the documentation: https://pandas.pydata.org/pandas-docs/stable/user_guide/indexing.html#returning-a-view-versus-a-copy\n",
      "  X_test[bool_cols] = X_test[bool_cols].astype(int)\n"
     ]
    }
   ],
   "source": [
    "bool_cols = X_train.select_dtypes(include=['bool']).columns\n",
    "X_train[bool_cols] = X_train[bool_cols].astype(int)\n",
    "X_test[bool_cols] = X_test[bool_cols].astype(int)"
   ]
  },
  {
   "cell_type": "code",
   "execution_count": 11,
   "metadata": {},
   "outputs": [],
   "source": [
    "numerical_cols = X_train.select_dtypes(include=['int64', 'float64']).columns\n",
    "categorical_cols = X_train.select_dtypes(include=['object', 'category']).columns\n"
   ]
  },
  {
   "cell_type": "code",
   "execution_count": 12,
   "metadata": {},
   "outputs": [],
   "source": [
    "preprocessor = ColumnTransformer(\n",
    "    transformers=[\n",
    "        ('num', SimpleImputer(strategy='mean'), numerical_cols),\n",
    "        ('cat', SimpleImputer(strategy='most_frequent'), categorical_cols)\n",
    "    ],\n",
    "    remainder='passthrough'\n",
    ")"
   ]
  },
  {
   "cell_type": "code",
   "execution_count": 13,
   "metadata": {},
   "outputs": [],
   "source": [
    "pipeline = Pipeline(steps=[\n",
    "    ('preprocessor', preprocessor),\n",
    "    ('scaler', StandardScaler())\n",
    "])"
   ]
  },
  {
   "cell_type": "code",
   "execution_count": 14,
   "metadata": {},
   "outputs": [],
   "source": [
    "X_train_preprocessed = pipeline.fit_transform(X_train)\n",
    "X_test_preprocessed = pipeline.transform(X_test)"
   ]
  },
  {
   "cell_type": "code",
   "execution_count": null,
   "metadata": {},
   "outputs": [],
   "source": [
    "from sklearn.preprocessing import StandardScaler\n",
    "\n",
    "#initialize the scaler \n",
    "scaler = StandardScaler()\n",
    "\n",
    "# Fit and transform the training data\n",
    "X_train_scaled = scaler.fit_transform(X_train_imputed)\n",
    "\n",
    "# Transform the test data\n",
    "X_test_scaled = scaler.fit_transform(X_test_imputed)"
   ]
  },
  {
   "cell_type": "code",
   "execution_count": 15,
   "metadata": {},
   "outputs": [
    {
     "name": "stdout",
     "output_type": "stream",
     "text": [
      "Linear Regression RMSE: 2525.7662538024942\n"
     ]
    }
   ],
   "source": [
    "# Linear Regression\n",
    "lr_model = LinearRegression()\n",
    "lr_model.fit(X_train_preprocessed, y_train)\n",
    "y_pred_lr = lr_model.predict(X_test_preprocessed)\n",
    "mse_lr = mean_squared_error(y_train, lr_model.predict(X_train_preprocessed))\n",
    "rmse_lr = np.sqrt(mse_lr)\n",
    "print(f\"Linear Regression RMSE: {rmse_lr}\")\n"
   ]
  },
  {
   "cell_type": "code",
   "execution_count": 17,
   "metadata": {},
   "outputs": [
    {
     "name": "stdout",
     "output_type": "stream",
     "text": [
      "Random Forest RMSE: 312.7414964797352\n"
     ]
    }
   ],
   "source": [
    "#Random Forest\n",
    "rf_model = RandomForestRegressor(n_estimators=100, random_state=42)\n",
    "rf_model.fit(X_train_preprocessed, y_train)\n",
    "y_pred_rf = rf_model.predict(X_test_preprocessed)\n",
    "mse_rf = mean_squared_error(y_train, rf_model.predict(X_train_preprocessed))\n",
    "rmse_rf = np.sqrt(mse_rf)\n",
    "print(f\"Random Forest RMSE: {rmse_rf}\")"
   ]
  },
  {
   "cell_type": "code",
   "execution_count": null,
   "metadata": {},
   "outputs": [
    {
     "name": "stdout",
     "output_type": "stream",
     "text": [
      "Random Forest RMSE: 312.7414964797352\n"
     ]
    }
   ],
   "source": [
    "#Random Forest\n",
    "rf_model = RandomForestRegressor(n_estimators=100, random_state=42)\n",
    "rf_model.fit(X_train_preprocessed, y_train)\n",
    "y_pred_rf = rf_model.predict(X_test_preprocessed)\n",
    "mse_rf = mean_squared_error(y_train, rf_model.predict(X_train_preprocessed))\n",
    "rmse_rf = np.sqrt(mse_rf)\n",
    "print(f\"Random Forest RMSE: {rmse_rf}\")"
   ]
  },
  {
   "cell_type": "code",
   "execution_count": 18,
   "metadata": {},
   "outputs": [
    {
     "name": "stdout",
     "output_type": "stream",
     "text": [
      "XGBoost RMSE: 1179.8632922800082\n"
     ]
    }
   ],
   "source": [
    "#XGBoost Regressor\n",
    "xgb_model = xgb.XGBRegressor(n_estimators=100, random_state=42)\n",
    "xgb_model.fit(X_train_preprocessed, y_train)\n",
    "y_pred_xgb = xgb_model.predict(X_test_preprocessed)\n",
    "mse_xgb = mean_squared_error(y_train, xgb_model.predict(X_train_preprocessed))\n",
    "rmse_xgb = np.sqrt(mse_xgb)\n",
    "print(f\"XGBoost RMSE: {rmse_xgb}\")"
   ]
  }
 ],
 "metadata": {
  "kernelspec": {
   "display_name": "PMSF",
   "language": "python",
   "name": "python3"
  },
  "language_info": {
   "codemirror_mode": {
    "name": "ipython",
    "version": 3
   },
   "file_extension": ".py",
   "mimetype": "text/x-python",
   "name": "python",
   "nbconvert_exporter": "python",
   "pygments_lexer": "ipython3",
   "version": "3.12.0"
  }
 },
 "nbformat": 4,
 "nbformat_minor": 2
}
